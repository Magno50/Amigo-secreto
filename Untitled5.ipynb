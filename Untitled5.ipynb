{
  "nbformat": 4,
  "nbformat_minor": 0,
  "metadata": {
    "colab": {
      "provenance": [],
      "authorship_tag": "ABX9TyObG19slWt+91JJ0zWxR+mu",
      "include_colab_link": true
    },
    "kernelspec": {
      "name": "python3",
      "display_name": "Python 3"
    },
    "language_info": {
      "name": "python"
    }
  },
  "cells": [
    {
      "cell_type": "markdown",
      "metadata": {
        "id": "view-in-github",
        "colab_type": "text"
      },
      "source": [
        "<a href=\"https://colab.research.google.com/github/Magno50/Amigo-secreto/blob/main/Untitled5.ipynb\" target=\"_parent\"><img src=\"https://colab.research.google.com/assets/colab-badge.svg\" alt=\"Open In Colab\"/></a>"
      ]
    },
    {
      "cell_type": "code",
      "execution_count": 15,
      "metadata": {
        "colab": {
          "base_uri": "https://localhost:8080/"
        },
        "collapsed": true,
        "id": "GugaGu3VxSYA",
        "outputId": "5fe02c77-3c6e-4572-e4a2-82b2eed5f86f"
      },
      "outputs": [
        {
          "output_type": "stream",
          "name": "stdout",
          "text": [
            "EScuela de Datos de Alura\n"
          ]
        }
      ],
      "source": [
        "print(\"EScuela de Datos de Alura\")"
      ]
    },
    {
      "cell_type": "code",
      "source": [
        "print('Nombre: <Magnolia')\n",
        "print('Apellido: <Silva')"
      ],
      "metadata": {
        "colab": {
          "base_uri": "https://localhost:8080/"
        },
        "id": "HDnVFU2s3ZVy",
        "outputId": "cc2a145e-7cfb-4a4a-892f-1a7a6defcf1f"
      },
      "execution_count": 16,
      "outputs": [
        {
          "output_type": "stream",
          "name": "stdout",
          "text": [
            "Nombre: <Magnolia\n",
            "Apellido: <Silva\n"
          ]
        }
      ]
    },
    {
      "cell_type": "code",
      "source": [
        "print('M')\n",
        "print('A')\n",
        "print('G')\n",
        "print('N')\n",
        "print('O')\n",
        "print('L')\n",
        "print('I')\n",
        "print('A')"
      ],
      "metadata": {
        "colab": {
          "base_uri": "https://localhost:8080/"
        },
        "id": "XFG7VSVI5ajg",
        "outputId": "210b9ea2-5648-423b-a438-b1dd65b2517c"
      },
      "execution_count": 10,
      "outputs": [
        {
          "output_type": "stream",
          "name": "stdout",
          "text": [
            "M\n",
            "A\n",
            "G\n",
            "N\n",
            "O\n",
            "L\n",
            "I\n",
            "A\n"
          ]
        }
      ]
    },
    {
      "cell_type": "code",
      "source": [
        "print('12 Octubre 1974')"
      ],
      "metadata": {
        "colab": {
          "base_uri": "https://localhost:8080/"
        },
        "id": "39j-dpQ565PE",
        "outputId": "7c1bc872-34c8-4f52-fe43-6443a3ff6d90"
      },
      "execution_count": 12,
      "outputs": [
        {
          "output_type": "stream",
          "name": "stdout",
          "text": [
            "12 Octubre 1974\n"
          ]
        }
      ]
    },
    {
      "cell_type": "code",
      "source": [
        "print('Año actual:2025')"
      ],
      "metadata": {
        "colab": {
          "base_uri": "https://localhost:8080/"
        },
        "id": "xaB_BOFl8UJ6",
        "outputId": "d7ea754e-ae0d-443a-9f34-034a156eb0ac"
      },
      "execution_count": 13,
      "outputs": [
        {
          "output_type": "stream",
          "name": "stdout",
          "text": [
            "Año actual:2025\n"
          ]
        }
      ]
    }
  ]
}